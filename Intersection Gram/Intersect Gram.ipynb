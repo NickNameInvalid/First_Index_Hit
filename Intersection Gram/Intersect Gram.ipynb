{
 "cells": [
  {
   "cell_type": "code",
   "execution_count": 1,
   "id": "20fd9519",
   "metadata": {},
   "outputs": [],
   "source": [
    "# given reduced gram for two sets, get the intersection of them\n",
    "\n",
    "import re\n",
    "from datetime import datetime"
   ]
  },
  {
   "cell_type": "code",
   "execution_count": 2,
   "id": "3da75256",
   "metadata": {},
   "outputs": [],
   "source": [
    "def intersect_gram_file(gram_file1, gram_file2, output_gram_file):\n",
    "    gram_list1 = []\n",
    "    gram_list2 = []\n",
    "    \n",
    "    gram_file1_line = gram_file1.readline()\n",
    "    while gram_file1_line:\n",
    "        line_list = gram_file1_line.split(\"......\")\n",
    "        line_list = line_list[0]\n",
    "        gram_list1.append(line_list)\n",
    "        gram_file1_line = gram_file1.readline()\n",
    "        \n",
    "    gram_file2_line = gram_file2.readline()\n",
    "    while gram_file2_line:\n",
    "        line_list = gram_file2_line.split(\"......\")\n",
    "        line_list = line_list[0]\n",
    "        gram_list2.append(line_list)\n",
    "        gram_file2_line = gram_file2.readline()\n",
    "        \n",
    "    #print(len(gram_list1))\n",
    "    #print(len(gram_list2))\n",
    "    #print()\n",
    "    intersect_list = sorted(list(set(gram_list1) & set(gram_list2)))\n",
    "    for gram in intersect_list:\n",
    "        output_gram_file.write(gram + \"\\n\")\n",
    "        \n",
    "    gram_file1.close()\n",
    "    gram_file2.close()\n",
    "    output_gram_file.close()\n",
    "    \n",
    "    return"
   ]
  },
  {
   "cell_type": "code",
   "execution_count": 3,
   "id": "10577b56",
   "metadata": {},
   "outputs": [
    {
     "name": "stdout",
     "output_type": "stream",
     "text": [
      "Time to Intersect Single Terms: 2.0885s\n"
     ]
    }
   ],
   "source": [
    "temp_start_time = datetime.now()\n",
    "single_training_file = open(\"..\\\\Training Part\\\\Reduced Gram\\\\single_reduced.txt\", \"r\", encoding='utf-8')\n",
    "single_testing_file = open(\"..\\\\Testing Part\\\\Reduced Gram\\\\single_reduced.txt\", \"r\", encoding='utf-8')\n",
    "single_intersection_file = open(\"single_intersection.txt\", \"w\", encoding='utf-8')\n",
    "intersect_gram_file(single_testing_file, single_training_file, single_intersection_file)\n",
    "single_intersection_time = datetime.now() - temp_start_time\n",
    "print(\"Time to Intersect Single Terms:\", str(single_intersection_time.total_seconds()) + \"s\")"
   ]
  },
  {
   "cell_type": "code",
   "execution_count": 4,
   "id": "6331e48d",
   "metadata": {},
   "outputs": [
    {
     "name": "stdout",
     "output_type": "stream",
     "text": [
      "Time to Intersect Duplets: 11.931043s\n"
     ]
    }
   ],
   "source": [
    "temp_start_time = datetime.now()\n",
    "duplets_training_file = open(\"..\\\\Training Part\\\\Reduced Gram\\\\duplet_reduced.txt\", \"r\", encoding='utf-8')\n",
    "duplets_testing_file = open(\"..\\\\Testing Part\\\\Reduced Gram\\\\duplet_reduced.txt\", \"r\", encoding='utf-8')\n",
    "duplets_intersection_file = open(\"duplet_intersection.txt\", \"w\", encoding='utf-8')\n",
    "intersect_gram_file(duplets_testing_file, duplets_training_file, duplets_intersection_file)\n",
    "duplets_intersection_time = datetime.now() - temp_start_time\n",
    "print(\"Time to Intersect Duplets:\", str(duplets_intersection_time.total_seconds()) + \"s\")"
   ]
  },
  {
   "cell_type": "code",
   "execution_count": 5,
   "id": "90f69cf1",
   "metadata": {},
   "outputs": [
    {
     "name": "stdout",
     "output_type": "stream",
     "text": [
      "Time to Intersect Triplets: 27.600959s\n"
     ]
    }
   ],
   "source": [
    "temp_start_time = datetime.now()\n",
    "triplets_training_file = open(\"..\\\\Training Part\\\\Reduced Gram\\\\triplet_reduced.txt\", \"r\", encoding='utf-8')\n",
    "triplets_testing_file = open(\"..\\\\Testing Part\\\\Reduced Gram\\\\triplet_reduced.txt\", \"r\", encoding='utf-8')\n",
    "triplets_intersection_file = open(\"triplet_intersection.txt\", \"w\", encoding='utf-8')\n",
    "intersect_gram_file(triplets_testing_file, triplets_training_file, triplets_intersection_file)\n",
    "triplets_intersection_time = datetime.now() - temp_start_time\n",
    "print(\"Time to Intersect Triplets:\", str(triplets_intersection_time.total_seconds()) + \"s\")"
   ]
  },
  {
   "cell_type": "code",
   "execution_count": 6,
   "id": "38a1fb66",
   "metadata": {},
   "outputs": [
    {
     "name": "stdout",
     "output_type": "stream",
     "text": [
      "Time to Intersect Quadruplets: 36.734347s\n"
     ]
    }
   ],
   "source": [
    "temp_start_time = datetime.now()\n",
    "quadruplets_training_file = open(\"..\\\\Training Part\\\\Reduced Gram\\\\quadruplet_reduced.txt\", \"r\", encoding='utf-8')\n",
    "quadruplets_testing_file = open(\"..\\\\Testing Part\\\\Reduced Gram\\\\quadruplet_reduced.txt\", \"r\", encoding='utf-8')\n",
    "quadruplets_intersection_file = open(\"quadruplet_intersection.txt\", \"w\", encoding='utf-8')\n",
    "intersect_gram_file(quadruplets_testing_file, quadruplets_training_file, quadruplets_intersection_file)\n",
    "quadruplets_intersection_time = datetime.now() - temp_start_time\n",
    "print(\"Time to Intersect Quadruplets:\", str(quadruplets_intersection_time.total_seconds()) + \"s\")"
   ]
  }
 ],
 "metadata": {
  "kernelspec": {
   "display_name": "Python 3",
   "language": "python",
   "name": "python3"
  },
  "language_info": {
   "codemirror_mode": {
    "name": "ipython",
    "version": 3
   },
   "file_extension": ".py",
   "mimetype": "text/x-python",
   "name": "python",
   "nbconvert_exporter": "python",
   "pygments_lexer": "ipython3",
   "version": "3.8.8"
  }
 },
 "nbformat": 4,
 "nbformat_minor": 5
}