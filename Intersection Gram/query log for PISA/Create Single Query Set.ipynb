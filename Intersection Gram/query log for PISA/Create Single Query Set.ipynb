{
 "cells": [
  {
   "cell_type": "code",
   "execution_count": 1,
   "id": "3d0a6cff",
   "metadata": {},
   "outputs": [
    {
     "name": "stdout",
     "output_type": "stream",
     "text": [
      "31474\n",
      "12692\n"
     ]
    }
   ],
   "source": [
    "# given all the test queries, return a query trace that contains each term in the test queries.\n",
    "\n",
    "test_query_file = open(\"aol_testing.txt\", \"r\", encoding='utf-8')\n",
    "complete_single_query_file = open(\"complete_single_queries.txt\", \"w\", encoding='utf-8')\n",
    "\n",
    "term_list = []\n",
    "\n",
    "query_line = test_query_file.readline()\n",
    "while query_line:\n",
    "    query_line = query_line.replace(\"\\n\", \"\")\n",
    "    colon_pos = query_line.index(\":\")\n",
    "    query_content = query_line[colon_pos + 1:].split()\n",
    "    term_list.extend(query_content)\n",
    "    query_line = test_query_file.readline()\n",
    "    \n",
    "print(len(term_list))\n",
    "    \n",
    "# remove duplicate\n",
    "term_list = sorted(list(set(term_list)))\n",
    "print(len(term_list))\n",
    "\n",
    "term_list.remove(\"20kine\")\n",
    "term_list.remove(\"crianal\")\n",
    "term_list.remove(\"plusplls\")\n",
    "term_list.remove(\"rnntal\")\n",
    "\n",
    "for i in range(len(term_list)):\n",
    "    complete_single_query_file.write(str(i + 1) +  \":\" + term_list[i] + \"\\n\")\n",
    "\n",
    "test_query_file.close()\n",
    "complete_single_query_file.close()"
   ]
  },
  {
   "cell_type": "code",
   "execution_count": 1,
   "id": "19c7d354",
   "metadata": {},
   "outputs": [],
   "source": []
  }
 ],
 "metadata": {
  "kernelspec": {
   "display_name": "Python 3",
   "language": "python",
   "name": "python3"
  },
  "language_info": {
   "codemirror_mode": {
    "name": "ipython",
    "version": 3
   },
   "file_extension": ".py",
   "mimetype": "text/x-python",
   "name": "python",
   "nbconvert_exporter": "python",
   "pygments_lexer": "ipython3",
   "version": "3.8.8"
  }
 },
 "nbformat": 4,
 "nbformat_minor": 5
}