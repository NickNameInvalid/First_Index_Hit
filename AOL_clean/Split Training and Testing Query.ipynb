{
 "cells": [
  {
   "cell_type": "code",
   "execution_count": 4,
   "id": "01632154",
   "metadata": {},
   "outputs": [],
   "source": [
    "import re\n",
    "from datetime import datetime"
   ]
  },
  {
   "cell_type": "code",
   "execution_count": 5,
   "id": "a8b9cd00",
   "metadata": {},
   "outputs": [],
   "source": [
    "query_log_file = open(\"aol.clean\", \"r\", encoding='utf-8')\n",
    "\n",
    "training_query_file = open(\"..\\\\Training Part\\\\aol_training.txt\", \"w\", encoding='utf-8')\n",
    "testing_query_file = open(\"..\\\\Testing Part\\\\aol_testing.txt\", \"w\", encoding='utf-8')\n",
    "\n",
    "line_list = []\n",
    "query_line = query_log_file.readline()\n",
    "while query_line:\n",
    "    line_list.append(query_line)          \n",
    "    query_line = query_log_file.readline()\n",
    "    \n",
    "query_log_file.close()"
   ]
  },
  {
   "cell_type": "code",
   "execution_count": 6,
   "id": "2c811081",
   "metadata": {},
   "outputs": [],
   "source": [
    "training_line_list = line_list[:-10000]\n",
    "testing_line_list = line_list[-10000:]\n",
    "\n",
    "#print(len(training_line_list))\n",
    "#print(len(testing_line_list))\n",
    "\n",
    "# write them to different files\n",
    "for training_line in training_line_list:\n",
    "    training_query_file.write(training_line)\n",
    "    \n",
    "for testing_line in testing_line_list:\n",
    "    testing_query_file.write(testing_line)\n",
    "\n",
    "training_query_file.close()\n",
    "testing_query_file.close()"
   ]
  }
 ],
 "metadata": {
  "kernelspec": {
   "display_name": "Python 3",
   "language": "python",
   "name": "python3"
  },
  "language_info": {
   "codemirror_mode": {
    "name": "ipython",
    "version": 3
   },
   "file_extension": ".py",
   "mimetype": "text/x-python",
   "name": "python",
   "nbconvert_exporter": "python",
   "pygments_lexer": "ipython3",
   "version": "3.8.8"
  }
 },
 "nbformat": 4,
 "nbformat_minor": 5
}