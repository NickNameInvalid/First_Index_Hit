{
 "cells": [
  {
   "cell_type": "code",
   "execution_count": 1,
   "id": "88ca38c2",
   "metadata": {},
   "outputs": [],
   "source": [
    "# given sorted gram file, get reduced statistic\n",
    "import re\n",
    "from datetime import datetime"
   ]
  },
  {
   "cell_type": "code",
   "execution_count": 2,
   "id": "cf707d57",
   "metadata": {},
   "outputs": [],
   "source": [
    "def reduce_sorted_gram(sorted_gram_file_reader, reduce_file_writer, statistic_writer):\n",
    "    line = sorted_gram_file_reader.readline()\n",
    "    line = line.replace(\"\\n\", \"\")\n",
    "    last_gram = line\n",
    "    last_freq = 1\n",
    "    \n",
    "    # use a dictionary to store the info of the gram\n",
    "    gram_length_freq_dic = {}\n",
    "    \n",
    "    line = sorted_gram_file_reader.readline()\n",
    "    line = line.replace(\"\\n\", \"\")\n",
    "    while line:\n",
    "        # read the same gram\n",
    "        if line == last_gram:\n",
    "            last_freq += 1\n",
    "        else:\n",
    "            # read a different gram\n",
    "            # first write last gram to file\n",
    "            reduce_file_writer.write(last_gram + \"......\" + str(last_freq) + \"\\n\")\n",
    "            \n",
    "            #add info to dictionary \n",
    "            if last_freq in gram_length_freq_dic:\n",
    "                gram_length_freq_dic[last_freq] += 1\n",
    "            else:\n",
    "                gram_length_freq_dic[last_freq] = 1\n",
    "            \n",
    "            last_gram = line\n",
    "            last_freq = 1\n",
    "        \n",
    "        line = sorted_gram_file_reader.readline()\n",
    "        line = line.replace(\"\\n\", \"\")\n",
    "        \n",
    "    # write the last one out\n",
    "    reduce_file_writer.write(last_gram + \"......\" + str(last_freq) + \"\\n\")\n",
    "    \n",
    "    #add info to dictionary \n",
    "    if last_freq in gram_length_freq_dic:\n",
    "        gram_length_freq_dic[last_freq] += 1\n",
    "    else:\n",
    "        gram_length_freq_dic[last_freq] = 1\n",
    "        \n",
    "    # write gram statistic into file\n",
    "    total_gram_num = 0\n",
    "    statistic_writer.write('{:<20} {:<20}'.format(\"gram freq\", \"number of gram\") + \"\\n\")\n",
    "    for key in sorted(gram_length_freq_dic.keys()):\n",
    "        statistic_writer.write('{:<20} {:<20}'.format(key, gram_length_freq_dic[key]) + \"\\n\")\n",
    "        total_gram_num += gram_length_freq_dic[key]\n",
    "        \n",
    "    statistic_writer.write('{:<20} {:<20}'.format(\"distinct gram num:\", total_gram_num))\n",
    "     \n",
    "    sorted_gram_file_reader.close()\n",
    "    reduce_file_writer.close()\n",
    "    statistic_writer.close()\n",
    "    return\n",
    "        \n",
    "        "
   ]
  },
  {
   "cell_type": "code",
   "execution_count": 5,
   "id": "3b129652",
   "metadata": {},
   "outputs": [
    {
     "name": "stdout",
     "output_type": "stream",
     "text": [
      "Time to Reduce All Grams: 186.64368s\n"
     ]
    }
   ],
   "source": [
    "sorted_path = \"Sorted Gram\"\n",
    "\n",
    "sorted_single_file = open(sorted_path + \"\\\\\" + \"single_sorted.txt\", \"r\", encoding='utf-8')\n",
    "sorted_duplets_file = open(sorted_path + \"\\\\\" + \"duplet_sorted.txt\", \"r\", encoding='utf-8')\n",
    "sorted_triplets_file = open(sorted_path + \"\\\\\" + \"triplet_sorted.txt\", \"r\", encoding='utf-8')\n",
    "sorted_quadruplets_file = open(sorted_path + \"\\\\\" + \"quadruplet_sorted.txt\", \"r\", encoding='utf-8')\n",
    "\n",
    "reduced_path = \"Reduced Gram\"\n",
    "reduced_single_file = open(reduced_path + \"\\\\\" + \"single_reduced.txt\", \"w\", encoding='utf-8')\n",
    "reduced_duplets_file = open(reduced_path + \"\\\\\" + \"duplet_reduced.txt\", \"w\", encoding='utf-8')\n",
    "reduced_triplets_file = open(reduced_path + \"\\\\\" + \"triplet_reduced.txt\", \"w\", encoding='utf-8')\n",
    "reduced_quadruplets_file = open(reduced_path + \"\\\\\" + \"quadruplet_reduced.txt\", \"w\", encoding='utf-8')\n",
    "\n",
    "reduced_single_statistic_file = open(reduced_path + \"\\\\\" + \"single_statistic.txt\", \"w\", encoding='utf-8')\n",
    "reduced_duplets_statistic_file = open(reduced_path + \"\\\\\" + \"duplet_statistic.txt\", \"w\", encoding='utf-8')\n",
    "reduced_triplets_statistic_file = open(reduced_path + \"\\\\\" + \"triplet_statistic.txt\", \"w\", encoding='utf-8')\n",
    "reduced_quadruplets_statistic_file = open(reduced_path + \"\\\\\" + \"quadruplet_statistic.txt\", \"w\", encoding='utf-8')\n",
    "\n",
    "term_start_time = datetime.now()\n",
    "\n",
    "reduce_sorted_gram(sorted_single_file, reduced_single_file, reduced_single_statistic_file)\n",
    "reduce_sorted_gram(sorted_duplets_file, reduced_duplets_file, reduced_duplets_statistic_file)\n",
    "reduce_sorted_gram(sorted_triplets_file, reduced_triplets_file, reduced_triplets_statistic_file)\n",
    "reduce_sorted_gram(sorted_quadruplets_file, reduced_quadruplets_file, reduced_quadruplets_statistic_file)\n",
    "\n",
    "reduce_time = datetime.now() - term_start_time\n",
    "print(\"Time to Reduce All Grams:\", str(reduce_time.total_seconds()) + \"s\")"
   ]
  }
 ],
 "metadata": {
  "kernelspec": {
   "display_name": "Python 3",
   "language": "python",
   "name": "python3"
  },
  "language_info": {
   "codemirror_mode": {
    "name": "ipython",
    "version": 3
   },
   "file_extension": ".py",
   "mimetype": "text/x-python",
   "name": "python",
   "nbconvert_exporter": "python",
   "pygments_lexer": "ipython3",
   "version": "3.8.8"
  }
 },
 "nbformat": 4,
 "nbformat_minor": 5
}