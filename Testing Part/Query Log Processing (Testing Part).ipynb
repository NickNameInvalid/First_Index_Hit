{
 "cells": [
  {
   "cell_type": "code",
   "execution_count": 15,
   "id": "fc59bb85",
   "metadata": {},
   "outputs": [],
   "source": [
    "import re\n",
    "from datetime import datetime"
   ]
  },
  {
   "cell_type": "code",
   "execution_count": 16,
   "id": "e1bc936e",
   "metadata": {},
   "outputs": [],
   "source": [
    "def gram_enumerate(length, query_term_list, single_gram, duplets, triplets, quadruplets):\n",
    "    if length != len(query_term_list):\n",
    "        print(\"Error\")\n",
    "        return\n",
    "    # start enumerates\n",
    "    # for single, just put them into the single list\n",
    "    for i in range(length):\n",
    "        single_gram.append(query_term_list[i])\n",
    "        \n",
    "    if length < 2:\n",
    "        return\n",
    "    \n",
    "    for i in range(length):\n",
    "        for j in range(i + 1, length):\n",
    "            duplets.append(query_term_list[i] + \" \" + query_term_list[j])\n",
    "            \n",
    "    if length < 3:\n",
    "        return\n",
    "    \n",
    "    for i in range(length):\n",
    "        for j in range(i + 1, length):\n",
    "            for k in range(j + 1, length):\n",
    "                triplets.append(query_term_list[i] + \" \" + query_term_list[j] + \" \" + query_term_list[k])\n",
    "                \n",
    "                \n",
    "    if length < 4:\n",
    "        return\n",
    "    \n",
    "    for i in range(length):\n",
    "        for j in range(i + 1, length):\n",
    "            for k in range(j + 1, length):\n",
    "                for l in range(k + 1, length):\n",
    "                    quadruplets.append(query_term_list[i] + \" \" + query_term_list[j] + \" \" + query_term_list[k] + \" \" + query_term_list[l])\n",
    "    return\n",
    "\n",
    "def write_sorted_gram(sorted_gram_list, file_writer):\n",
    "    for gram in sorted_gram_list:\n",
    "        file_writer.write(gram + \"\\n\")\n",
    "    sorted_gram_list = []\n",
    "    return"
   ]
  },
  {
   "cell_type": "code",
   "execution_count": 17,
   "id": "a5149166",
   "metadata": {},
   "outputs": [
    {
     "name": "stdout",
     "output_type": "stream",
     "text": [
      "Time to Enumerate All Possible Grams: 0.167971s\n"
     ]
    }
   ],
   "source": [
    "single_gram = []\n",
    "duplets = []\n",
    "triplets = []\n",
    "quadruplets = []\n",
    "\n",
    "query_statistic = {}\n",
    "\n",
    "longest_idx = 0\n",
    "longest_length = 0\n",
    "line_read = 1\n",
    "\n",
    "query_log_file = open(\"aol_testing.txt\", \"r\", encoding='utf-8')\n",
    "statistic_file = open(\"aol_statistic.txt\", \"w\", encoding='utf-8')\n",
    "\n",
    "# set a timer\n",
    "start_time = datetime.now()\n",
    "\n",
    "query_line = query_log_file.readline()\n",
    "while query_line:\n",
    "    colon_pos = query_line.index(\":\")\n",
    "    current_line = query_line[colon_pos + 1:].replace(\"\\n\", \"\")\n",
    "    query_term_list = sorted(list(set(current_line.split())))\n",
    "\n",
    "    length = len(query_term_list)\n",
    "    \n",
    "    # store statistic of query log\n",
    "    if length > longest_length:\n",
    "        longest_length = length\n",
    "        longest_line_num = line_read\n",
    "    if length in query_statistic:\n",
    "        query_statistic[length] += 1\n",
    "    else:\n",
    "        query_statistic[length] = 1\n",
    "    \n",
    "    # less than 12 distinct terms\n",
    "    if length <= 12:\n",
    "        gram_enumerate(length, query_term_list, single_gram, duplets, triplets, quadruplets)\n",
    "\n",
    "    line_read += 1\n",
    "                             \n",
    "    query_line = query_log_file.readline()\n",
    "    \n",
    "# write statistic\n",
    "short_query_num = 0\n",
    "total_query_num = 0\n",
    "statistic_file.write('{:<20} {:<20}'.format(\"query len\", \"number of query\") + \"\\n\")\n",
    " \n",
    "for key in sorted(query_statistic.keys()):\n",
    "    statistic_file.write('{:<20} {:<20}'.format(key, query_statistic[key]) + \"\\n\")\n",
    "    if key <= 12:\n",
    "        short_query_num += query_statistic[key]\n",
    "    total_query_num += query_statistic[key]\n",
    "    \n",
    "statistic_file.write('{:<20} {:<20}'.format(\"short query num\", short_query_num) + \"\\n\")\n",
    "statistic_file.write('{:<20} {:<20}'.format(\"total query num\", total_query_num) + \"\\n\")\n",
    "    \n",
    "statistic_file.close()\n",
    "query_log_file.close()\n",
    "statistic_file.close()\n",
    "\n",
    "total_running_time = datetime.now() - start_time\n",
    "print(\"Time to Enumerate All Possible Grams:\", str(total_running_time.total_seconds()) + \"s\")"
   ]
  },
  {
   "cell_type": "code",
   "execution_count": 18,
   "id": "26832dd1",
   "metadata": {},
   "outputs": [
    {
     "name": "stdout",
     "output_type": "stream",
     "text": [
      "34347\n",
      "56100\n",
      "65157\n",
      "65043\n"
     ]
    }
   ],
   "source": [
    "print(len(single_gram))\n",
    "print(len(duplets))\n",
    "print(len(triplets))\n",
    "print(len(quadruplets))"
   ]
  },
  {
   "cell_type": "code",
   "execution_count": 19,
   "id": "25fab16e",
   "metadata": {},
   "outputs": [
    {
     "name": "stdout",
     "output_type": "stream",
     "text": [
      "Time to Sort Single Terms: 0.00887s\n",
      "Time to Sort Duplets: 0.015053s\n",
      "Time to Sort Triplets: 0.012903s\n",
      "Time to Sort Quadruplets: 0.008892s\n"
     ]
    }
   ],
   "source": [
    "term_start_time = datetime.now()\n",
    "single_gram = sorted(single_gram)\n",
    "single_sort_time = datetime.now() - term_start_time\n",
    "print(\"Time to Sort Single Terms:\", str(single_sort_time.total_seconds()) + \"s\")\n",
    "\n",
    "term_start_time = datetime.now()\n",
    "duplets = sorted(duplets)\n",
    "duplets_sort_time = datetime.now() - term_start_time\n",
    "print(\"Time to Sort Duplets:\", str(duplets_sort_time.total_seconds()) + \"s\")\n",
    "\n",
    "term_start_time = datetime.now()\n",
    "triplets = sorted(triplets)\n",
    "triplets_sort_time = datetime.now() - term_start_time\n",
    "print(\"Time to Sort Triplets:\", str(triplets_sort_time.total_seconds()) + \"s\")\n",
    "\n",
    "term_start_time = datetime.now()\n",
    "quadruplets = sorted(quadruplets)\n",
    "quadruplets_sort_time = datetime.now() - term_start_time\n",
    "print(\"Time to Sort Quadruplets:\", str(quadruplets_sort_time.total_seconds()) + \"s\")"
   ]
  },
  {
   "cell_type": "code",
   "execution_count": 20,
   "id": "ccd33964",
   "metadata": {},
   "outputs": [
    {
     "name": "stdout",
     "output_type": "stream",
     "text": [
      "Time to Write All Grams: 0.124381s\n"
     ]
    }
   ],
   "source": [
    "term_start_time = datetime.now()\n",
    "\n",
    "path = \"Sorted Gram\"\n",
    "\n",
    "single_file = open(path + \"\\\\\" + \"single_sorted.txt\", \"w\", encoding='utf-8')\n",
    "duplets_file = open(path + \"\\\\\" + \"duplet_sorted.txt\", \"w\", encoding='utf-8')\n",
    "triplets_file = open(path + \"\\\\\" + \"triplet_sorted.txt\", \"w\", encoding='utf-8')\n",
    "quadruplets_file = open(path + \"\\\\\" + \"quadruplet_sorted.txt\", \"w\", encoding='utf-8')\n",
    "\n",
    "write_sorted_gram(single_gram, single_file)\n",
    "write_sorted_gram(duplets, duplets_file)\n",
    "write_sorted_gram(triplets, triplets_file)\n",
    "write_sorted_gram(quadruplets, quadruplets_file)\n",
    "\n",
    "single_file.close()\n",
    "duplets_file.close()\n",
    "triplets_file.close()\n",
    "quadruplets_file.close()\n",
    "\n",
    "writing_time = datetime.now() - term_start_time\n",
    "print(\"Time to Write All Grams:\", str(writing_time.total_seconds()) + \"s\")"
   ]
  }
 ],
 "metadata": {
  "kernelspec": {
   "display_name": "Python 3",
   "language": "python",
   "name": "python3"
  },
  "language_info": {
   "codemirror_mode": {
    "name": "ipython",
    "version": 3
   },
   "file_extension": ".py",
   "mimetype": "text/x-python",
   "name": "python",
   "nbconvert_exporter": "python",
   "pygments_lexer": "ipython3",
   "version": "3.8.8"
  }
 },
 "nbformat": 4,
 "nbformat_minor": 5
}